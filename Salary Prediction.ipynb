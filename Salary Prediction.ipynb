{
 "metadata": {
  "language_info": {
   "codemirror_mode": {
    "name": "ipython",
    "version": 3
   },
   "file_extension": ".py",
   "mimetype": "text/x-python",
   "name": "python",
   "nbconvert_exporter": "python",
   "pygments_lexer": "ipython3",
   "version": "3.8.3"
  },
  "orig_nbformat": 4,
  "kernelspec": {
   "name": "python3",
   "display_name": "Python 3.8.3 64-bit ('base': conda)"
  },
  "interpreter": {
   "hash": "7b4b4feff2f24a0f0a34464dbe537a36fda679851528fb8735cb41fa49dffb2d"
  }
 },
 "nbformat": 4,
 "nbformat_minor": 2,
 "cells": [
  {
   "source": [
    "# Salary Predictions Based on Years of Experience"
   ],
   "cell_type": "markdown",
   "metadata": {}
  },
  {
   "source": [
    "## Importing Libraries"
   ],
   "cell_type": "markdown",
   "metadata": {}
  },
  {
   "cell_type": "code",
   "execution_count": null,
   "metadata": {},
   "outputs": [],
   "source": [
    "import numpy as np # (Numerical Python) For linear algebra and mathematical computations\n",
    "\n",
    "import pandas as pd # (Python and data analysis) For data processing and manipulation, CSV file I/O\n",
    "\n",
    "import matplotlib.pyplot as plt # For visualization the data\n",
    "\n",
    "import seaborn as sns # For statistical graphics plotting with beautiful styles and color"
   ]
  },
  {
   "source": [
    "## Importing the dataset"
   ],
   "cell_type": "markdown",
   "metadata": {}
  },
  {
   "cell_type": "code",
   "execution_count": null,
   "metadata": {},
   "outputs": [],
   "source": [
    "df=pd.read_csv('E:\\Others\\ML\\Salary Predictor/Salary.csv')"
   ]
  },
  {
   "cell_type": "code",
   "execution_count": null,
   "metadata": {},
   "outputs": [],
   "source": [
    "x=df.loc[:, \"YearsExperience\"].values\n",
    "y=df.loc[:, \"Salary\"].values"
   ]
  },
  {
   "source": [
    "## Checking if there is any null value present in the dataset"
   ],
   "cell_type": "markdown",
   "metadata": {}
  },
  {
   "cell_type": "code",
   "execution_count": null,
   "metadata": {},
   "outputs": [],
   "source": [
    "df.isnull().sum()"
   ]
  },
  {
   "source": [
    "## Defining values for implementing linear regression"
   ],
   "cell_type": "markdown",
   "metadata": {}
  },
  {
   "cell_type": "code",
   "execution_count": null,
   "metadata": {},
   "outputs": [],
   "source": [
    "m=len(x)\n",
    "X=np.column_stack((np.ones(m), x))\n",
    "Y=np.row_stack((y))\n",
    "theta=np.zeros((2,1))\n",
    "iterations=1500\n",
    "alpha=0.03"
   ]
  },
  {
   "source": [
    "## Function to calculate cost function, $J(\\theta)$ \n",
    "Cost function computes the cost using theta as the parameter for linear regression to fit the data points in X and y so as to check the convergence of the gradient descent implementation."
   ],
   "cell_type": "markdown",
   "metadata": {}
  },
  {
   "cell_type": "code",
   "execution_count": null,
   "metadata": {},
   "outputs": [],
   "source": [
    "def compute_cost(X, y, theta):\n",
    "    m=len(y)\n",
    "    J=0\n",
    "    hx=np.dot(X, theta)\n",
    "    J=(1/(2*m))*np.sum(np.square(hx-y))\n",
    "    return J"
   ]
  },
  {
   "source": [
    "## Function to implement gradient descent\n",
    "Performs gradient descent to learn `theta`. Updates theta by taking `iterations` gradient steps with learning rate `alpha`."
   ],
   "cell_type": "markdown",
   "metadata": {}
  },
  {
   "cell_type": "code",
   "execution_count": null,
   "metadata": {},
   "outputs": [],
   "source": [
    "def gradient_descent(X, y, theta, alpha, iterations):\n",
    "    m=len(y)\n",
    "    J_history=np.zeros((iterations, 1))\n",
    "\n",
    "    for iter in range(iterations):\n",
    "        theta = theta - alpha*(1/m)*X.T.dot(X.dot(theta) - np.transpose([y]))\n",
    "        J_history[iter]=(compute_cost(X, y, theta))\n",
    "\n",
    "    return theta, J_history"
   ]
  },
  {
   "source": [
    "## Calling the `gradient_descent` function and printing the computed `theta`"
   ],
   "cell_type": "markdown",
   "metadata": {}
  },
  {
   "cell_type": "code",
   "execution_count": null,
   "metadata": {},
   "outputs": [],
   "source": [
    "theta, J_history = gradient_descent(X, y, theta, alpha, iterations)\n",
    "theta"
   ]
  },
  {
   "source": [
    "## Visualising the prediction\n",
    "Creating a scatter plot between Salary and Experinece (in years). Also plotting the linear regression model on same plot. "
   ],
   "cell_type": "markdown",
   "metadata": {}
  },
  {
   "cell_type": "code",
   "execution_count": null,
   "metadata": {},
   "outputs": [],
   "source": [
    "plt.scatter(x, y, color='red')\n",
    "plt.plot(X[:, 1], X.dot(theta), '-', label='Linear regression')\n",
    "plt.legend(loc='lower right')\n",
    "plt.title('Salary')\n",
    "plt.xlabel('Experience (in years)')\n",
    "plt.ylabel('Salary')"
   ]
  },
  {
   "source": [
    "## Plotting cost function vs iterations\n",
    "This shows how the cost function decreases after every iteration."
   ],
   "cell_type": "markdown",
   "metadata": {}
  },
  {
   "cell_type": "code",
   "execution_count": null,
   "metadata": {},
   "outputs": [],
   "source": [
    "plt.plot(range(0,iterations), J_history)\n",
    "plt.xlabel('Iterations')\n",
    "plt.ylabel('Cost Function')"
   ]
  },
  {
   "source": [
    "## Comparing the actual salary and predicted salary"
   ],
   "cell_type": "markdown",
   "metadata": {}
  },
  {
   "cell_type": "code",
   "execution_count": null,
   "metadata": {},
   "outputs": [],
   "source": [
    "compare = pd.DataFrame(x, columns=[\"Experience (in years)\"])\n",
    "compare[\"Actual Salary\"] = np.transpose([y])\n",
    "compare[\"Predicted Salary\"] = np.round(X.dot(theta))\n",
    "# compare[\"Difference\"] = np.transpose([y])-np.round(X.dot(theta))\n",
    "compare"
   ]
  },
  {
   "source": [
    "## Plotting the error in prediction\n"
   ],
   "cell_type": "markdown",
   "metadata": {}
  },
  {
   "cell_type": "code",
   "execution_count": null,
   "metadata": {},
   "outputs": [],
   "source": [
    "# plt.scatter(X[:, 1], (X.dot(theta)-Y))\n",
    "sns.distplot(X.dot(theta)-y).set_title('Error in prediction')"
   ]
  },
  {
   "source": [
    "### Test"
   ],
   "cell_type": "markdown",
   "metadata": {}
  },
  {
   "cell_type": "code",
   "execution_count": null,
   "metadata": {},
   "outputs": [],
   "source": [
    "print(np.array([1, 11.2]).dot(theta))"
   ]
  }
 ]
}