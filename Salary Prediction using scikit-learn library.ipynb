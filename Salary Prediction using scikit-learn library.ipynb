{
 "metadata": {
  "language_info": {
   "codemirror_mode": {
    "name": "ipython",
    "version": 3
   },
   "file_extension": ".py",
   "mimetype": "text/x-python",
   "name": "python",
   "nbconvert_exporter": "python",
   "pygments_lexer": "ipython3",
   "version": "3.8.3"
  },
  "orig_nbformat": 4,
  "kernelspec": {
   "name": "python3",
   "display_name": "Python 3.8.3 64-bit ('base': conda)"
  },
  "interpreter": {
   "hash": "7b4b4feff2f24a0f0a34464dbe537a36fda679851528fb8735cb41fa49dffb2d"
  }
 },
 "nbformat": 4,
 "nbformat_minor": 2,
 "cells": [
  {
   "cell_type": "markdown",
   "source": [
    "# Salary Predictions Based on Years of Experience using scikit-learn library"
   ],
   "metadata": {}
  },
  {
   "cell_type": "markdown",
   "source": [
    "## Importing Libraries"
   ],
   "metadata": {}
  },
  {
   "cell_type": "code",
   "execution_count": 1,
   "source": [
    "import numpy as np # (Numerical Python) For linear algebra and mathematical computations\r\n",
    "\r\n",
    "import pandas as pd # (Python and data analysis) For data processing and manipulation, CSV file I/O\r\n",
    "\r\n",
    "import matplotlib.pyplot as plt # For visualization of the data\r\n",
    "\r\n",
    "import seaborn as sns # For statistical graphics plotting with beautiful styles and color"
   ],
   "outputs": [],
   "metadata": {}
  },
  {
   "cell_type": "markdown",
   "source": [
    "## Importing the dataset"
   ],
   "metadata": {}
  },
  {
   "cell_type": "code",
   "execution_count": 2,
   "source": [
    "df = pd.read_csv('E:\\Others\\ML\\Salary Predictor/Salary.csv')"
   ],
   "outputs": [],
   "metadata": {}
  },
  {
   "cell_type": "code",
   "execution_count": 3,
   "source": [
    "x = df.iloc[:, :-1].values    # Features => Years of experience => Independent Variable\r\n",
    "y = df.iloc[:, -1].values     # Target => Salary => Dependent Variable\r\n",
    "\r\n",
    "# loc is label-based, which means that you have to specify rows and columns based on their row and column labels.\r\n",
    "# E.g. : df.loc[row_label, column_label] -> This will retrieve data at particular label.\r\n",
    "#        df.loc[:, column_label] -> This will retrieve all the data rows of particular column.\r\n",
    "#        df.loc[r1:r2, column_label] -> This will retrieve data from row r1 to r2 of particular column.\r\n",
    "#        df.loc[row_label, :] -> This will retrieve all the data columns of particular row.\r\n",
    "#        df.loc[row_label, c1:c2] -> This will retrieve data from column c1 to c2 of particular row.\r\n",
    "\r\n",
    "# iloc is integer position-based, so you have to specify rows and columns by their integer position values (0-based integer position).\r\n",
    "# E.g. : df.iloc[row_position, column_position] -> This will retrieve data at particular positiion.\r\n",
    "#        df.iloc[:, column_position] -> This will retrieve all the data rows of particular column.\r\n",
    "#        df.iloc[r1:r2, column_position] -> This will retrieve data from row r1 to r2 of particular column.\r\n",
    "#        df.iloc[row_position, :] -> This will retrieve all the data columns of particular row.\r\n",
    "#        df.iloc[row_position, c1:c2] -> This will retrieve data from column c1 to c2 of particular row.\r\n",
    "\r\n",
    "# df.loc[row_label, column_label].values -> Return Series as ndarray or ndarray-like depending on the dtype.\r\n",
    "# df.loc[row_label, column_label].value_counts -> Return a series containing counts of unique values.\r\n",
    "# df.loc[row_label, column_label].sort_values -> Sort a series in ascending/descending order by some criterion (default is ascending).\r\n",
    "# s1.count() -> Returns the number of non-null/NA elements in series s1."
   ],
   "outputs": [],
   "metadata": {}
  },
  {
   "cell_type": "code",
   "execution_count": 4,
   "source": [
    "# x"
   ],
   "outputs": [],
   "metadata": {}
  },
  {
   "cell_type": "code",
   "execution_count": 5,
   "source": [
    "# y"
   ],
   "outputs": [],
   "metadata": {}
  },
  {
   "cell_type": "markdown",
   "source": [
    "## Checking if there is any null value present in the dataset"
   ],
   "metadata": {}
  },
  {
   "cell_type": "code",
   "execution_count": 6,
   "source": [
    "df.isnull().sum()"
   ],
   "outputs": [
    {
     "output_type": "execute_result",
     "data": {
      "text/plain": [
       "YearsExperience    0\n",
       "Salary             0\n",
       "dtype: int64"
      ]
     },
     "metadata": {},
     "execution_count": 6
    }
   ],
   "metadata": {}
  },
  {
   "cell_type": "markdown",
   "source": [
    "## Dividing the dataset into two parts: training data and testing data"
   ],
   "metadata": {}
  },
  {
   "cell_type": "code",
   "execution_count": 7,
   "source": [
    "from sklearn.model_selection import train_test_split\r\n",
    "x_train, x_test, y_train, y_test = train_test_split(x, y, test_size=0.5, random_state=0)\r\n",
    "\r\n",
    "# random_state => seed value used by random number generator\r\n",
    "# random_state is basically used for reproducing your problem the same every time it is run. If there is no random_state provided the system will use a random_state that is generated internally, so every time you make the split you might get a different set of train and test data points and the behavior will be unpredictable. This will not help you in debugging in case you get an issue as you do not know the random number that was generated when you ran the program."
   ],
   "outputs": [],
   "metadata": {}
  },
  {
   "cell_type": "code",
   "execution_count": 8,
   "source": [
    "# print(x_train)\r\n",
    "# print(y_train)\r\n",
    "# print(x_test)\r\n",
    "# print(y_test)"
   ],
   "outputs": [],
   "metadata": {}
  },
  {
   "cell_type": "markdown",
   "source": [
    "## Implementing the linear regression"
   ],
   "metadata": {}
  },
  {
   "cell_type": "code",
   "execution_count": 9,
   "source": [
    "from sklearn.linear_model import LinearRegression\r\n",
    "model = LinearRegression()\r\n",
    "model.fit(x_train, y_train)"
   ],
   "outputs": [
    {
     "output_type": "execute_result",
     "data": {
      "text/plain": [
       "LinearRegression()"
      ]
     },
     "metadata": {},
     "execution_count": 9
    }
   ],
   "metadata": {}
  },
  {
   "cell_type": "code",
   "execution_count": 10,
   "source": [
    "predictions = model.predict(x_test)"
   ],
   "outputs": [],
   "metadata": {}
  },
  {
   "cell_type": "markdown",
   "source": [
    "## Visualising the prediction\n",
    "Creating a scatter plot between Salary and Experinece (in years). Also plotting the linear regression model on same plot."
   ],
   "metadata": {}
  },
  {
   "cell_type": "markdown",
   "source": [
    "### Training dataset"
   ],
   "metadata": {}
  },
  {
   "cell_type": "code",
   "execution_count": 11,
   "source": [
    "plt.scatter(x_train, y_train, color='red')\r\n",
    "plt.plot(x_train, model.predict(x_train), '-', label='Linear regression')\r\n",
    "plt.legend(loc='lower right')\r\n",
    "plt.title('Salary (Training dataset)')\r\n",
    "plt.xlabel('Experience (in years)')\r\n",
    "plt.ylabel('Salary')"
   ],
   "outputs": [
    {
     "output_type": "execute_result",
     "data": {
      "text/plain": [
       "Text(0, 0.5, 'Salary')"
      ]
     },
     "metadata": {},
     "execution_count": 11
    },
    {
     "output_type": "display_data",
     "data": {
      "text/plain": [
       "<Figure size 432x288 with 1 Axes>"
      ],
      "image/png": "[encoded data removed]"
     },
     "metadata": {
      "needs_background": "light"
     }
    }
   ],
   "metadata": {}
  },
  {
   "cell_type": "markdown",
   "source": [
    "### Testing dataset"
   ],
   "metadata": {}
  },
  {
   "cell_type": "code",
   "execution_count": 12,
   "source": [
    "plt.scatter(x_test, y_test, color='black')\r\n",
    "plt.plot(x_test, model.predict(x_test), '-', label='Linear regression')\r\n",
    "plt.legend(loc='lower right')\r\n",
    "plt.title('Salary (Testing dataset)')\r\n",
    "plt.xlabel('Experience (in years)')\r\n",
    "plt.ylabel('Salary')"
   ],
   "outputs": [
    {
     "output_type": "execute_result",
     "data": {
      "text/plain": [
       "Text(0, 0.5, 'Salary')"
      ]
     },
     "metadata": {},
     "execution_count": 12
    },
    {
     "output_type": "display_data",
     "data": {
      "text/plain": [
       "<Figure size 432x288 with 1 Axes>"
      ],
      "image/png": "[encoded data removed]"
     },
     "metadata": {
      "needs_background": "light"
     }
    }
   ],
   "metadata": {}
  },
  {
   "cell_type": "markdown",
   "source": [
    "## Comparing the actual salary and predicted salary"
   ],
   "metadata": {}
  },
  {
   "cell_type": "code",
   "execution_count": 13,
   "source": [
    "compare = pd.DataFrame(x_test, columns=[\"Experience (in years)\"])\r\n",
    "compare[\"Actual Salary\"] = y_test\r\n",
    "compare[\"Predicted Salary\"] = np.round(predictions)\r\n",
    "compare"
   ],
   "outputs": [
    {
     "output_type": "execute_result",
     "data": {
      "text/plain": [
       "    Experience (in years)  Actual Salary  Predicted Salary\n",
       "0                    10.5         121872          122720.0\n",
       "1                     6.8          91738           89673.0\n",
       "2                     5.1          66029           74489.0\n",
       "3                    10.3         122391          120934.0\n",
       "4                     7.9         101302           99498.0\n",
       "5                     4.9          67938           72703.0\n",
       "6                     3.9          63218           63771.0\n",
       "7                     1.5          37731           42335.0\n",
       "8                     4.0          55794           64665.0\n",
       "9                     9.6         112635          114682.0\n",
       "10                    9.0         105582          109323.0\n",
       "11                   13.5         139465          149515.0\n",
       "12                   12.3         128765          138797.0\n",
       "13                    9.5         116969          113789.0\n",
       "14                   11.2         127345          128973.0\n",
       "15                    3.2          64445           57519.0\n",
       "16                    4.1          57081           65558.0\n",
       "17                    2.9          56642           54840.0"
      ],
      "text/html": [
       "<div>\n",
       "<style scoped>\n",
       "    .dataframe tbody tr th:only-of-type {\n",
       "        vertical-align: middle;\n",
       "    }\n",
       "\n",
       "    .dataframe tbody tr th {\n",
       "        vertical-align: top;\n",
       "    }\n",
       "\n",
       "    .dataframe thead th {\n",
       "        text-align: right;\n",
       "    }\n",
       "</style>\n",
       "<table border=\"1\" class=\"dataframe\">\n",
       "  <thead>\n",
       "    <tr style=\"text-align: right;\">\n",
       "      <th></th>\n",
       "      <th>Experience (in years)</th>\n",
       "      <th>Actual Salary</th>\n",
       "      <th>Predicted Salary</th>\n",
       "    </tr>\n",
       "  </thead>\n",
       "  <tbody>\n",
       "    <tr>\n",
       "      <th>0</th>\n",
       "      <td>10.5</td>\n",
       "      <td>121872</td>\n",
       "      <td>122720.0</td>\n",
       "    </tr>\n",
       "    <tr>\n",
       "      <th>1</th>\n",
       "      <td>6.8</td>\n",
       "      <td>91738</td>\n",
       "      <td>89673.0</td>\n",
       "    </tr>\n",
       "    <tr>\n",
       "      <th>2</th>\n",
       "      <td>5.1</td>\n",
       "      <td>66029</td>\n",
       "      <td>74489.0</td>\n",
       "    </tr>\n",
       "    <tr>\n",
       "      <th>3</th>\n",
       "      <td>10.3</td>\n",
       "      <td>122391</td>\n",
       "      <td>120934.0</td>\n",
       "    </tr>\n",
       "    <tr>\n",
       "      <th>4</th>\n",
       "      <td>7.9</td>\n",
       "      <td>101302</td>\n",
       "      <td>99498.0</td>\n",
       "    </tr>\n",
       "    <tr>\n",
       "      <th>5</th>\n",
       "      <td>4.9</td>\n",
       "      <td>67938</td>\n",
       "      <td>72703.0</td>\n",
       "    </tr>\n",
       "    <tr>\n",
       "      <th>6</th>\n",
       "      <td>3.9</td>\n",
       "      <td>63218</td>\n",
       "      <td>63771.0</td>\n",
       "    </tr>\n",
       "    <tr>\n",
       "      <th>7</th>\n",
       "      <td>1.5</td>\n",
       "      <td>37731</td>\n",
       "      <td>42335.0</td>\n",
       "    </tr>\n",
       "    <tr>\n",
       "      <th>8</th>\n",
       "      <td>4.0</td>\n",
       "      <td>55794</td>\n",
       "      <td>64665.0</td>\n",
       "    </tr>\n",
       "    <tr>\n",
       "      <th>9</th>\n",
       "      <td>9.6</td>\n",
       "      <td>112635</td>\n",
       "      <td>114682.0</td>\n",
       "    </tr>\n",
       "    <tr>\n",
       "      <th>10</th>\n",
       "      <td>9.0</td>\n",
       "      <td>105582</td>\n",
       "      <td>109323.0</td>\n",
       "    </tr>\n",
       "    <tr>\n",
       "      <th>11</th>\n",
       "      <td>13.5</td>\n",
       "      <td>139465</td>\n",
       "      <td>149515.0</td>\n",
       "    </tr>\n",
       "    <tr>\n",
       "      <th>12</th>\n",
       "      <td>12.3</td>\n",
       "      <td>128765</td>\n",
       "      <td>138797.0</td>\n",
       "    </tr>\n",
       "    <tr>\n",
       "      <th>13</th>\n",
       "      <td>9.5</td>\n",
       "      <td>116969</td>\n",
       "      <td>113789.0</td>\n",
       "    </tr>\n",
       "    <tr>\n",
       "      <th>14</th>\n",
       "      <td>11.2</td>\n",
       "      <td>127345</td>\n",
       "      <td>128973.0</td>\n",
       "    </tr>\n",
       "    <tr>\n",
       "      <th>15</th>\n",
       "      <td>3.2</td>\n",
       "      <td>64445</td>\n",
       "      <td>57519.0</td>\n",
       "    </tr>\n",
       "    <tr>\n",
       "      <th>16</th>\n",
       "      <td>4.1</td>\n",
       "      <td>57081</td>\n",
       "      <td>65558.0</td>\n",
       "    </tr>\n",
       "    <tr>\n",
       "      <th>17</th>\n",
       "      <td>2.9</td>\n",
       "      <td>56642</td>\n",
       "      <td>54840.0</td>\n",
       "    </tr>\n",
       "  </tbody>\n",
       "</table>\n",
       "</div>"
      ]
     },
     "metadata": {},
     "execution_count": 13
    }
   ],
   "metadata": {}
  },
  {
   "cell_type": "code",
   "execution_count": 14,
   "source": [
    "plt.scatter(x_test, y_test, color='red', label='Testing dataset')\r\n",
    "plt.scatter(x_test, predictions, color='blue', label='Predicted Salary')\r\n",
    "plt.legend(loc='lower right')\r\n",
    "plt.title('Salary (Comparison of predicted salary with testing dataset)')\r\n",
    "plt.xlabel('Experience (in years)')\r\n",
    "plt.ylabel('Salary')"
   ],
   "outputs": [
    {
     "output_type": "execute_result",
     "data": {
      "text/plain": [
       "Text(0, 0.5, 'Salary')"
      ]
     },
     "metadata": {},
     "execution_count": 14
    },
    {
     "output_type": "display_data",
     "data": {
      "text/plain": [
       "<Figure size 432x288 with 1 Axes>"
      ],
      "image/png": "[encoded data removed]"
     },
     "metadata": {
      "needs_background": "light"
     }
    }
   ],
   "metadata": {}
  },
  {
   "cell_type": "markdown",
   "source": [
    "## Plotting the error in prediction"
   ],
   "metadata": {}
  },
  {
   "cell_type": "code",
   "execution_count": 15,
   "source": [
    "sns.distplot(predictions-y_test).set_title('Error in prediction')"
   ],
   "outputs": [
    {
     "output_type": "execute_result",
     "data": {
      "text/plain": [
       "Text(0.5, 1.0, 'Error in prediction')"
      ]
     },
     "metadata": {},
     "execution_count": 15
    },
    {
     "output_type": "display_data",
     "data": {
      "text/plain": [
       "<Figure size 432x288 with 1 Axes>"
      ],
      "image/png": "[encoded data removed]"
     },
     "metadata": {
      "needs_background": "light"
     }
    }
   ],
   "metadata": {}
  },
  {
   "cell_type": "markdown",
   "source": [
    "## R-squared (R<sup>2</sup>) score\n",
    "Accuracy is a measure for classification, not regression, so we can't calculate accuracy for a regression model. For regression, one of the matrices used is R-squared (R<sup>2</sup>) score.\n",
    "We can get the R<sup>2</sup> score (i.e accuracy) of your prediction using the score(X, y, sample_weight=None) function from LinearRegression"
   ],
   "metadata": {}
  },
  {
   "cell_type": "code",
   "execution_count": 16,
   "source": [
    "model.score(x_test, y_test)"
   ],
   "outputs": [
    {
     "output_type": "execute_result",
     "data": {
      "text/plain": [
       "0.9680372261185924"
      ]
     },
     "metadata": {},
     "execution_count": 16
    }
   ],
   "metadata": {}
  }
 ]
}